{
 "cells": [
  {
   "cell_type": "code",
   "execution_count": 1,
   "id": "1ce9eef5",
   "metadata": {
    "execution": {
     "iopub.execute_input": "2022-03-16T23:02:39.788292Z",
     "iopub.status.busy": "2022-03-16T23:02:39.786657Z",
     "iopub.status.idle": "2022-03-16T23:02:50.199383Z",
     "shell.execute_reply": "2022-03-16T23:02:50.199903Z",
     "shell.execute_reply.started": "2022-03-16T21:59:04.546711Z"
    },
    "papermill": {
     "duration": 10.467206,
     "end_time": "2022-03-16T23:02:50.200201",
     "exception": false,
     "start_time": "2022-03-16T23:02:39.732995",
     "status": "completed"
    },
    "tags": []
   },
   "outputs": [
    {
     "name": "stdout",
     "output_type": "stream",
     "text": [
      "/kaggle/input/sentiment-analysis-on-movie-reviews/sampleSubmission.csv\n",
      "/kaggle/input/sentiment-analysis-on-movie-reviews/train.tsv.zip\n",
      "/kaggle/input/sentiment-analysis-on-movie-reviews/test.tsv.zip\n"
     ]
    }
   ],
   "source": [
    "import os\n",
    "for dirname, _, filenames in os.walk('/kaggle/input'):\n",
    "    for filename in filenames:\n",
    "        print(os.path.join(dirname, filename))\n",
    "import cudf as pd\n",
    "import cupy as cp\n",
    "import cuml\n",
    "import nltk\n",
    "import re\n",
    "import string\n",
    "import keras\n",
    "import tensorflow\n",
    "from tensorflow.keras.optimizers import Adam\n",
    "from cuml.linear_model import LogisticRegression\n",
    "from cuml.ensemble import RandomForestClassifier as cuRFC\n",
    "from cuml.naive_bayes import MultinomialNB\n",
    "from cuml.svm import SVC\n",
    "from cuml.linear_model import LogisticRegression\n",
    "from cuml.multiclass import MulticlassClassifier\n",
    "from cuml.multiclass import OneVsRestClassifier\n",
    "from nltk.corpus import stopwords\n",
    "from nltk.stem.porter import PorterStemmer\n",
    "from nltk.tokenize import word_tokenize"
   ]
  },
  {
   "cell_type": "markdown",
   "id": "43680af6",
   "metadata": {
    "papermill": {
     "duration": 0.049487,
     "end_time": "2022-03-16T23:02:50.302378",
     "exception": false,
     "start_time": "2022-03-16T23:02:50.252891",
     "status": "completed"
    },
    "tags": []
   },
   "source": [
    "#### 1. Reading and Understanding Data"
   ]
  },
  {
   "cell_type": "code",
   "execution_count": 2,
   "id": "fd8cabca",
   "metadata": {
    "execution": {
     "iopub.execute_input": "2022-03-16T23:02:50.405939Z",
     "iopub.status.busy": "2022-03-16T23:02:50.405019Z",
     "iopub.status.idle": "2022-03-16T23:02:56.403272Z",
     "shell.execute_reply": "2022-03-16T23:02:56.403756Z",
     "shell.execute_reply.started": "2022-03-16T21:59:13.831926Z"
    },
    "papermill": {
     "duration": 6.051345,
     "end_time": "2022-03-16T23:02:56.403921",
     "exception": false,
     "start_time": "2022-03-16T23:02:50.352576",
     "status": "completed"
    },
    "tags": []
   },
   "outputs": [],
   "source": [
    "train=pd.read_csv('/kaggle/input/sentiment-analysis-on-movie-reviews/train.tsv.zip',sep='\\t')\n",
    "test=pd.read_csv('/kaggle/input/sentiment-analysis-on-movie-reviews/test.tsv.zip',sep='\\t')"
   ]
  },
  {
   "cell_type": "code",
   "execution_count": 3,
   "id": "69b18e91",
   "metadata": {
    "execution": {
     "iopub.execute_input": "2022-03-16T23:02:56.510051Z",
     "iopub.status.busy": "2022-03-16T23:02:56.501565Z",
     "iopub.status.idle": "2022-03-16T23:02:56.542855Z",
     "shell.execute_reply": "2022-03-16T23:02:56.542384Z",
     "shell.execute_reply.started": "2022-03-16T21:59:19.145229Z"
    },
    "papermill": {
     "duration": 0.091049,
     "end_time": "2022-03-16T23:02:56.542977",
     "exception": false,
     "start_time": "2022-03-16T23:02:56.451928",
     "status": "completed"
    },
    "tags": []
   },
   "outputs": [
    {
     "data": {
      "text/html": [
       "<div>\n",
       "<style scoped>\n",
       "    .dataframe tbody tr th:only-of-type {\n",
       "        vertical-align: middle;\n",
       "    }\n",
       "\n",
       "    .dataframe tbody tr th {\n",
       "        vertical-align: top;\n",
       "    }\n",
       "\n",
       "    .dataframe thead th {\n",
       "        text-align: right;\n",
       "    }\n",
       "</style>\n",
       "<table border=\"1\" class=\"dataframe\">\n",
       "  <thead>\n",
       "    <tr style=\"text-align: right;\">\n",
       "      <th></th>\n",
       "      <th>PhraseId</th>\n",
       "      <th>SentenceId</th>\n",
       "      <th>Phrase</th>\n",
       "    </tr>\n",
       "  </thead>\n",
       "  <tbody>\n",
       "    <tr>\n",
       "      <th>0</th>\n",
       "      <td>156061</td>\n",
       "      <td>8545</td>\n",
       "      <td>An intermittently pleasing but mostly routine ...</td>\n",
       "    </tr>\n",
       "    <tr>\n",
       "      <th>1</th>\n",
       "      <td>156062</td>\n",
       "      <td>8545</td>\n",
       "      <td>An intermittently pleasing but mostly routine ...</td>\n",
       "    </tr>\n",
       "    <tr>\n",
       "      <th>2</th>\n",
       "      <td>156063</td>\n",
       "      <td>8545</td>\n",
       "      <td>An</td>\n",
       "    </tr>\n",
       "    <tr>\n",
       "      <th>3</th>\n",
       "      <td>156064</td>\n",
       "      <td>8545</td>\n",
       "      <td>intermittently pleasing but mostly routine effort</td>\n",
       "    </tr>\n",
       "    <tr>\n",
       "      <th>4</th>\n",
       "      <td>156065</td>\n",
       "      <td>8545</td>\n",
       "      <td>intermittently pleasing but mostly routine</td>\n",
       "    </tr>\n",
       "  </tbody>\n",
       "</table>\n",
       "</div>"
      ],
      "text/plain": [
       "   PhraseId  SentenceId                                             Phrase\n",
       "0    156061        8545  An intermittently pleasing but mostly routine ...\n",
       "1    156062        8545  An intermittently pleasing but mostly routine ...\n",
       "2    156063        8545                                                 An\n",
       "3    156064        8545  intermittently pleasing but mostly routine effort\n",
       "4    156065        8545         intermittently pleasing but mostly routine"
      ]
     },
     "execution_count": 3,
     "metadata": {},
     "output_type": "execute_result"
    }
   ],
   "source": [
    "train.head()\n",
    "test.head()"
   ]
  },
  {
   "cell_type": "code",
   "execution_count": 4,
   "id": "27fc9787",
   "metadata": {
    "execution": {
     "iopub.execute_input": "2022-03-16T23:02:56.647459Z",
     "iopub.status.busy": "2022-03-16T23:02:56.646674Z",
     "iopub.status.idle": "2022-03-16T23:02:56.679879Z",
     "shell.execute_reply": "2022-03-16T23:02:56.680389Z",
     "shell.execute_reply.started": "2022-03-16T21:59:19.190894Z"
    },
    "papermill": {
     "duration": 0.08873,
     "end_time": "2022-03-16T23:02:56.680538",
     "exception": false,
     "start_time": "2022-03-16T23:02:56.591808",
     "status": "completed"
    },
    "tags": []
   },
   "outputs": [
    {
     "data": {
      "text/plain": [
       "2    79582\n",
       "3    32927\n",
       "1    27273\n",
       "4     9206\n",
       "0     7072\n",
       "Name: Sentiment, dtype: int32"
      ]
     },
     "execution_count": 4,
     "metadata": {},
     "output_type": "execute_result"
    }
   ],
   "source": [
    "train['Sentiment'].value_counts()"
   ]
  },
  {
   "cell_type": "code",
   "execution_count": 5,
   "id": "cccc392e",
   "metadata": {
    "execution": {
     "iopub.execute_input": "2022-03-16T23:02:56.779302Z",
     "iopub.status.busy": "2022-03-16T23:02:56.778778Z",
     "iopub.status.idle": "2022-03-16T23:02:56.867809Z",
     "shell.execute_reply": "2022-03-16T23:02:56.867266Z",
     "shell.execute_reply.started": "2022-03-16T21:59:19.226559Z"
    },
    "papermill": {
     "duration": 0.140743,
     "end_time": "2022-03-16T23:02:56.867934",
     "exception": false,
     "start_time": "2022-03-16T23:02:56.727191",
     "status": "completed"
    },
    "tags": []
   },
   "outputs": [],
   "source": [
    "train=train.to_pandas()\n",
    "test=test.to_pandas()"
   ]
  },
  {
   "cell_type": "markdown",
   "id": "2d4b28fe",
   "metadata": {
    "papermill": {
     "duration": 0.048203,
     "end_time": "2022-03-16T23:02:56.965074",
     "exception": false,
     "start_time": "2022-03-16T23:02:56.916871",
     "status": "completed"
    },
    "tags": []
   },
   "source": [
    "#### 2. Removing NULL Values "
   ]
  },
  {
   "cell_type": "code",
   "execution_count": 6,
   "id": "0aafe678",
   "metadata": {
    "execution": {
     "iopub.execute_input": "2022-03-16T23:02:57.082662Z",
     "iopub.status.busy": "2022-03-16T23:02:57.081741Z",
     "iopub.status.idle": "2022-03-16T23:02:57.089140Z",
     "shell.execute_reply": "2022-03-16T23:02:57.088647Z",
     "shell.execute_reply.started": "2022-03-16T21:59:19.309122Z"
    },
    "papermill": {
     "duration": 0.076677,
     "end_time": "2022-03-16T23:02:57.089283",
     "exception": false,
     "start_time": "2022-03-16T23:02:57.012606",
     "status": "completed"
    },
    "tags": []
   },
   "outputs": [
    {
     "data": {
      "text/plain": [
       "PhraseId      0\n",
       "SentenceId    0\n",
       "Phrase        0\n",
       "Sentiment     0\n",
       "dtype: int64"
      ]
     },
     "execution_count": 6,
     "metadata": {},
     "output_type": "execute_result"
    }
   ],
   "source": [
    "train.isnull().sum()"
   ]
  },
  {
   "cell_type": "code",
   "execution_count": 7,
   "id": "4c929446",
   "metadata": {
    "execution": {
     "iopub.execute_input": "2022-03-16T23:02:57.197910Z",
     "iopub.status.busy": "2022-03-16T23:02:57.197042Z",
     "iopub.status.idle": "2022-03-16T23:02:57.203009Z",
     "shell.execute_reply": "2022-03-16T23:02:57.203443Z",
     "shell.execute_reply.started": "2022-03-16T21:59:19.335737Z"
    },
    "papermill": {
     "duration": 0.066239,
     "end_time": "2022-03-16T23:02:57.203582",
     "exception": false,
     "start_time": "2022-03-16T23:02:57.137343",
     "status": "completed"
    },
    "tags": []
   },
   "outputs": [
    {
     "data": {
      "text/plain": [
       "PhraseId      0\n",
       "SentenceId    0\n",
       "Phrase        0\n",
       "dtype: int64"
      ]
     },
     "execution_count": 7,
     "metadata": {},
     "output_type": "execute_result"
    }
   ],
   "source": [
    "test.isnull().sum()"
   ]
  },
  {
   "cell_type": "markdown",
   "id": "61405d52",
   "metadata": {
    "papermill": {
     "duration": 0.048413,
     "end_time": "2022-03-16T23:02:57.302051",
     "exception": false,
     "start_time": "2022-03-16T23:02:57.253638",
     "status": "completed"
    },
    "tags": []
   },
   "source": [
    "#### 3. Make Text lowecase"
   ]
  },
  {
   "cell_type": "code",
   "execution_count": 8,
   "id": "6bbd388a",
   "metadata": {
    "execution": {
     "iopub.execute_input": "2022-03-16T23:02:57.409751Z",
     "iopub.status.busy": "2022-03-16T23:02:57.408700Z",
     "iopub.status.idle": "2022-03-16T23:02:57.498220Z",
     "shell.execute_reply": "2022-03-16T23:02:57.497645Z",
     "shell.execute_reply.started": "2022-03-16T21:59:19.352009Z"
    },
    "papermill": {
     "duration": 0.145913,
     "end_time": "2022-03-16T23:02:57.498349",
     "exception": false,
     "start_time": "2022-03-16T23:02:57.352436",
     "status": "completed"
    },
    "tags": []
   },
   "outputs": [],
   "source": [
    "train['Phrase']=train['Phrase'].apply(lambda x: x.lower())\n",
    "test['Phrase']=test['Phrase'].apply(lambda x: x.lower())"
   ]
  },
  {
   "cell_type": "code",
   "execution_count": 9,
   "id": "9d900fef",
   "metadata": {
    "execution": {
     "iopub.execute_input": "2022-03-16T23:02:57.607108Z",
     "iopub.status.busy": "2022-03-16T23:02:57.606235Z",
     "iopub.status.idle": "2022-03-16T23:02:57.609406Z",
     "shell.execute_reply": "2022-03-16T23:02:57.609958Z",
     "shell.execute_reply.started": "2022-03-16T21:59:19.438415Z"
    },
    "papermill": {
     "duration": 0.062006,
     "end_time": "2022-03-16T23:02:57.610122",
     "exception": false,
     "start_time": "2022-03-16T23:02:57.548116",
     "status": "completed"
    },
    "tags": []
   },
   "outputs": [
    {
     "data": {
      "text/html": [
       "<div>\n",
       "<style scoped>\n",
       "    .dataframe tbody tr th:only-of-type {\n",
       "        vertical-align: middle;\n",
       "    }\n",
       "\n",
       "    .dataframe tbody tr th {\n",
       "        vertical-align: top;\n",
       "    }\n",
       "\n",
       "    .dataframe thead th {\n",
       "        text-align: right;\n",
       "    }\n",
       "</style>\n",
       "<table border=\"1\" class=\"dataframe\">\n",
       "  <thead>\n",
       "    <tr style=\"text-align: right;\">\n",
       "      <th></th>\n",
       "      <th>PhraseId</th>\n",
       "      <th>SentenceId</th>\n",
       "      <th>Phrase</th>\n",
       "      <th>Sentiment</th>\n",
       "    </tr>\n",
       "  </thead>\n",
       "  <tbody>\n",
       "    <tr>\n",
       "      <th>0</th>\n",
       "      <td>1</td>\n",
       "      <td>1</td>\n",
       "      <td>a series of escapades demonstrating the adage ...</td>\n",
       "      <td>1</td>\n",
       "    </tr>\n",
       "    <tr>\n",
       "      <th>1</th>\n",
       "      <td>2</td>\n",
       "      <td>1</td>\n",
       "      <td>a series of escapades demonstrating the adage ...</td>\n",
       "      <td>2</td>\n",
       "    </tr>\n",
       "    <tr>\n",
       "      <th>2</th>\n",
       "      <td>3</td>\n",
       "      <td>1</td>\n",
       "      <td>a series</td>\n",
       "      <td>2</td>\n",
       "    </tr>\n",
       "    <tr>\n",
       "      <th>3</th>\n",
       "      <td>4</td>\n",
       "      <td>1</td>\n",
       "      <td>a</td>\n",
       "      <td>2</td>\n",
       "    </tr>\n",
       "    <tr>\n",
       "      <th>4</th>\n",
       "      <td>5</td>\n",
       "      <td>1</td>\n",
       "      <td>series</td>\n",
       "      <td>2</td>\n",
       "    </tr>\n",
       "  </tbody>\n",
       "</table>\n",
       "</div>"
      ],
      "text/plain": [
       "   PhraseId  SentenceId                                             Phrase  \\\n",
       "0         1           1  a series of escapades demonstrating the adage ...   \n",
       "1         2           1  a series of escapades demonstrating the adage ...   \n",
       "2         3           1                                           a series   \n",
       "3         4           1                                                  a   \n",
       "4         5           1                                             series   \n",
       "\n",
       "   Sentiment  \n",
       "0          1  \n",
       "1          2  \n",
       "2          2  \n",
       "3          2  \n",
       "4          2  "
      ]
     },
     "execution_count": 9,
     "metadata": {},
     "output_type": "execute_result"
    }
   ],
   "source": [
    "train.head()"
   ]
  },
  {
   "cell_type": "markdown",
   "id": "4f6e1b85",
   "metadata": {
    "papermill": {
     "duration": 0.049826,
     "end_time": "2022-03-16T23:02:57.710042",
     "exception": false,
     "start_time": "2022-03-16T23:02:57.660216",
     "status": "completed"
    },
    "tags": []
   },
   "source": [
    "#### 3. Remove Non alphabet Characters "
   ]
  },
  {
   "cell_type": "code",
   "execution_count": 10,
   "id": "0c3db290",
   "metadata": {
    "execution": {
     "iopub.execute_input": "2022-03-16T23:02:57.816105Z",
     "iopub.status.busy": "2022-03-16T23:02:57.815492Z",
     "iopub.status.idle": "2022-03-16T23:02:57.818484Z",
     "shell.execute_reply": "2022-03-16T23:02:57.818939Z",
     "shell.execute_reply.started": "2022-03-16T21:59:19.450558Z"
    },
    "papermill": {
     "duration": 0.057293,
     "end_time": "2022-03-16T23:02:57.819081",
     "exception": false,
     "start_time": "2022-03-16T23:02:57.761788",
     "status": "completed"
    },
    "tags": []
   },
   "outputs": [
    {
     "name": "stdout",
     "output_type": "stream",
     "text": [
      "!\"#$%&'()*+,-./:;<=>?@[\\]^_`{|}~\n"
     ]
    }
   ],
   "source": [
    "punct = string.punctuation\n",
    "print(punct)"
   ]
  },
  {
   "cell_type": "code",
   "execution_count": 11,
   "id": "a85c8170",
   "metadata": {
    "execution": {
     "iopub.execute_input": "2022-03-16T23:02:57.924992Z",
     "iopub.status.busy": "2022-03-16T23:02:57.923289Z",
     "iopub.status.idle": "2022-03-16T23:02:58.715034Z",
     "shell.execute_reply": "2022-03-16T23:02:58.714454Z",
     "shell.execute_reply.started": "2022-03-16T21:59:19.459492Z"
    },
    "papermill": {
     "duration": 0.847707,
     "end_time": "2022-03-16T23:02:58.715205",
     "exception": false,
     "start_time": "2022-03-16T23:02:57.867498",
     "status": "completed"
    },
    "tags": []
   },
   "outputs": [],
   "source": [
    "train['Phrase']=train['Phrase'].apply(lambda x: x.translate(str.maketrans('','',punct)).lower())\n",
    "test['Phrase']=test['Phrase'].apply(lambda x: x.translate(str.maketrans('','',punct)).lower())"
   ]
  },
  {
   "cell_type": "code",
   "execution_count": 12,
   "id": "3903939d",
   "metadata": {
    "execution": {
     "iopub.execute_input": "2022-03-16T23:02:58.830438Z",
     "iopub.status.busy": "2022-03-16T23:02:58.829556Z",
     "iopub.status.idle": "2022-03-16T23:02:58.832883Z",
     "shell.execute_reply": "2022-03-16T23:02:58.833304Z",
     "shell.execute_reply.started": "2022-03-16T21:59:20.192603Z"
    },
    "papermill": {
     "duration": 0.065219,
     "end_time": "2022-03-16T23:02:58.833452",
     "exception": false,
     "start_time": "2022-03-16T23:02:58.768233",
     "status": "completed"
    },
    "tags": []
   },
   "outputs": [
    {
     "data": {
      "text/html": [
       "<div>\n",
       "<style scoped>\n",
       "    .dataframe tbody tr th:only-of-type {\n",
       "        vertical-align: middle;\n",
       "    }\n",
       "\n",
       "    .dataframe tbody tr th {\n",
       "        vertical-align: top;\n",
       "    }\n",
       "\n",
       "    .dataframe thead th {\n",
       "        text-align: right;\n",
       "    }\n",
       "</style>\n",
       "<table border=\"1\" class=\"dataframe\">\n",
       "  <thead>\n",
       "    <tr style=\"text-align: right;\">\n",
       "      <th></th>\n",
       "      <th>PhraseId</th>\n",
       "      <th>SentenceId</th>\n",
       "      <th>Phrase</th>\n",
       "      <th>Sentiment</th>\n",
       "    </tr>\n",
       "  </thead>\n",
       "  <tbody>\n",
       "    <tr>\n",
       "      <th>0</th>\n",
       "      <td>1</td>\n",
       "      <td>1</td>\n",
       "      <td>a series of escapades demonstrating the adage ...</td>\n",
       "      <td>1</td>\n",
       "    </tr>\n",
       "    <tr>\n",
       "      <th>1</th>\n",
       "      <td>2</td>\n",
       "      <td>1</td>\n",
       "      <td>a series of escapades demonstrating the adage ...</td>\n",
       "      <td>2</td>\n",
       "    </tr>\n",
       "    <tr>\n",
       "      <th>2</th>\n",
       "      <td>3</td>\n",
       "      <td>1</td>\n",
       "      <td>a series</td>\n",
       "      <td>2</td>\n",
       "    </tr>\n",
       "    <tr>\n",
       "      <th>3</th>\n",
       "      <td>4</td>\n",
       "      <td>1</td>\n",
       "      <td>a</td>\n",
       "      <td>2</td>\n",
       "    </tr>\n",
       "    <tr>\n",
       "      <th>4</th>\n",
       "      <td>5</td>\n",
       "      <td>1</td>\n",
       "      <td>series</td>\n",
       "      <td>2</td>\n",
       "    </tr>\n",
       "  </tbody>\n",
       "</table>\n",
       "</div>"
      ],
      "text/plain": [
       "   PhraseId  SentenceId                                             Phrase  \\\n",
       "0         1           1  a series of escapades demonstrating the adage ...   \n",
       "1         2           1  a series of escapades demonstrating the adage ...   \n",
       "2         3           1                                           a series   \n",
       "3         4           1                                                  a   \n",
       "4         5           1                                             series   \n",
       "\n",
       "   Sentiment  \n",
       "0          1  \n",
       "1          2  \n",
       "2          2  \n",
       "3          2  \n",
       "4          2  "
      ]
     },
     "execution_count": 12,
     "metadata": {},
     "output_type": "execute_result"
    }
   ],
   "source": [
    "train.head()"
   ]
  },
  {
   "cell_type": "markdown",
   "id": "4e016483",
   "metadata": {
    "papermill": {
     "duration": 0.048695,
     "end_time": "2022-03-16T23:02:58.932851",
     "exception": false,
     "start_time": "2022-03-16T23:02:58.884156",
     "status": "completed"
    },
    "tags": []
   },
   "source": [
    "#### 4. Remove Stop Words"
   ]
  },
  {
   "cell_type": "code",
   "execution_count": 13,
   "id": "f037fbb3",
   "metadata": {
    "execution": {
     "iopub.execute_input": "2022-03-16T23:02:59.038817Z",
     "iopub.status.busy": "2022-03-16T23:02:59.037943Z",
     "iopub.status.idle": "2022-03-16T23:02:59.039864Z",
     "shell.execute_reply": "2022-03-16T23:02:59.040321Z",
     "shell.execute_reply.started": "2022-03-16T21:59:20.203117Z"
    },
    "papermill": {
     "duration": 0.058254,
     "end_time": "2022-03-16T23:02:59.040465",
     "exception": false,
     "start_time": "2022-03-16T23:02:58.982211",
     "status": "completed"
    },
    "tags": []
   },
   "outputs": [],
   "source": [
    "def Stop(text):\n",
    "    str=[]\n",
    "    for i in text.split():\n",
    "        if i not in stopwords.words('english'):\n",
    "            str.append(i) \n",
    "    final=str[:]\n",
    "    str.clear()\n",
    "    return final"
   ]
  },
  {
   "cell_type": "code",
   "execution_count": 14,
   "id": "cd7f6be9",
   "metadata": {
    "execution": {
     "iopub.execute_input": "2022-03-16T23:02:59.146824Z",
     "iopub.status.busy": "2022-03-16T23:02:59.145880Z",
     "iopub.status.idle": "2022-03-16T23:05:59.659124Z",
     "shell.execute_reply": "2022-03-16T23:05:59.658538Z",
     "shell.execute_reply.started": "2022-03-16T21:59:20.214467Z"
    },
    "papermill": {
     "duration": 180.567591,
     "end_time": "2022-03-16T23:05:59.659289",
     "exception": false,
     "start_time": "2022-03-16T23:02:59.091698",
     "status": "completed"
    },
    "tags": []
   },
   "outputs": [],
   "source": [
    "train['Phrase']=train['Phrase'].apply(Stop)\n",
    "test['Phrase']=test['Phrase'].apply(Stop)"
   ]
  },
  {
   "cell_type": "code",
   "execution_count": 15,
   "id": "1ba9e786",
   "metadata": {
    "execution": {
     "iopub.execute_input": "2022-03-16T23:05:59.766959Z",
     "iopub.status.busy": "2022-03-16T23:05:59.765859Z",
     "iopub.status.idle": "2022-03-16T23:05:59.767791Z",
     "shell.execute_reply": "2022-03-16T23:05:59.768197Z",
     "shell.execute_reply.started": "2022-03-16T22:02:06.836841Z"
    },
    "papermill": {
     "duration": 0.05711,
     "end_time": "2022-03-16T23:05:59.768326",
     "exception": false,
     "start_time": "2022-03-16T23:05:59.711216",
     "status": "completed"
    },
    "tags": []
   },
   "outputs": [],
   "source": [
    "ps=PorterStemmer()"
   ]
  },
  {
   "cell_type": "code",
   "execution_count": 16,
   "id": "4e7a18fb",
   "metadata": {
    "execution": {
     "iopub.execute_input": "2022-03-16T23:05:59.873966Z",
     "iopub.status.busy": "2022-03-16T23:05:59.873347Z",
     "iopub.status.idle": "2022-03-16T23:05:59.877175Z",
     "shell.execute_reply": "2022-03-16T23:05:59.876632Z",
     "shell.execute_reply.started": "2022-03-16T22:02:06.844138Z"
    },
    "papermill": {
     "duration": 0.05877,
     "end_time": "2022-03-16T23:05:59.877290",
     "exception": false,
     "start_time": "2022-03-16T23:05:59.818520",
     "status": "completed"
    },
    "tags": []
   },
   "outputs": [],
   "source": [
    "y=[]\n",
    "def stem_words(text):\n",
    "    for i in text:\n",
    "        y.append(ps.stem(i))\n",
    "    z=y[:]\n",
    "    y.clear()\n",
    "    return z"
   ]
  },
  {
   "cell_type": "code",
   "execution_count": 17,
   "id": "7eb115d6",
   "metadata": {
    "execution": {
     "iopub.execute_input": "2022-03-16T23:05:59.986005Z",
     "iopub.status.busy": "2022-03-16T23:05:59.985194Z",
     "iopub.status.idle": "2022-03-16T23:06:27.138686Z",
     "shell.execute_reply": "2022-03-16T23:06:27.137700Z",
     "shell.execute_reply.started": "2022-03-16T22:02:06.855127Z"
    },
    "papermill": {
     "duration": 27.210611,
     "end_time": "2022-03-16T23:06:27.138870",
     "exception": false,
     "start_time": "2022-03-16T23:05:59.928259",
     "status": "completed"
    },
    "tags": []
   },
   "outputs": [],
   "source": [
    "train['Phrase']=train['Phrase'].apply(stem_words)\n",
    "test['Phrase']=test['Phrase'].apply(stem_words)"
   ]
  },
  {
   "cell_type": "code",
   "execution_count": 18,
   "id": "b56cf6db",
   "metadata": {
    "execution": {
     "iopub.execute_input": "2022-03-16T23:06:27.248017Z",
     "iopub.status.busy": "2022-03-16T23:06:27.247093Z",
     "iopub.status.idle": "2022-03-16T23:06:27.249294Z",
     "shell.execute_reply": "2022-03-16T23:06:27.249780Z",
     "shell.execute_reply.started": "2022-03-16T22:02:30.128748Z"
    },
    "papermill": {
     "duration": 0.057792,
     "end_time": "2022-03-16T23:06:27.249929",
     "exception": false,
     "start_time": "2022-03-16T23:06:27.192137",
     "status": "completed"
    },
    "tags": []
   },
   "outputs": [],
   "source": [
    "def join_back(list_input):\n",
    "    return \" \".join(list_input)"
   ]
  },
  {
   "cell_type": "code",
   "execution_count": 19,
   "id": "048c8dc1",
   "metadata": {
    "execution": {
     "iopub.execute_input": "2022-03-16T23:06:27.357761Z",
     "iopub.status.busy": "2022-03-16T23:06:27.356781Z",
     "iopub.status.idle": "2022-03-16T23:06:27.478057Z",
     "shell.execute_reply": "2022-03-16T23:06:27.477519Z",
     "shell.execute_reply.started": "2022-03-16T22:02:30.135075Z"
    },
    "papermill": {
     "duration": 0.177855,
     "end_time": "2022-03-16T23:06:27.478202",
     "exception": false,
     "start_time": "2022-03-16T23:06:27.300347",
     "status": "completed"
    },
    "tags": []
   },
   "outputs": [],
   "source": [
    "train['Phrase']=train['Phrase'].apply(join_back)\n",
    "test['Phrase']=test['Phrase'].apply(join_back)"
   ]
  },
  {
   "cell_type": "code",
   "execution_count": 20,
   "id": "827659f9",
   "metadata": {
    "execution": {
     "iopub.execute_input": "2022-03-16T23:06:27.585087Z",
     "iopub.status.busy": "2022-03-16T23:06:27.584330Z",
     "iopub.status.idle": "2022-03-16T23:06:27.587308Z",
     "shell.execute_reply": "2022-03-16T23:06:27.587761Z",
     "shell.execute_reply.started": "2022-03-16T22:02:30.254050Z"
    },
    "papermill": {
     "duration": 0.058137,
     "end_time": "2022-03-16T23:06:27.587907",
     "exception": false,
     "start_time": "2022-03-16T23:06:27.529770",
     "status": "completed"
    },
    "tags": []
   },
   "outputs": [],
   "source": [
    "from tensorflow.keras.preprocessing.text import Tokenizer"
   ]
  },
  {
   "cell_type": "code",
   "execution_count": 21,
   "id": "a5d8b79f",
   "metadata": {
    "execution": {
     "iopub.execute_input": "2022-03-16T23:06:27.708223Z",
     "iopub.status.busy": "2022-03-16T23:06:27.702919Z",
     "iopub.status.idle": "2022-03-16T23:06:29.390939Z",
     "shell.execute_reply": "2022-03-16T23:06:29.390390Z",
     "shell.execute_reply.started": "2022-03-16T22:02:30.261401Z"
    },
    "papermill": {
     "duration": 1.751444,
     "end_time": "2022-03-16T23:06:29.391089",
     "exception": false,
     "start_time": "2022-03-16T23:06:27.639645",
     "status": "completed"
    },
    "tags": []
   },
   "outputs": [],
   "source": [
    "X_train =train['Phrase']\n",
    "y_train = train['Sentiment']\n",
    "tokenize = Tokenizer()\n",
    "tokenize.fit_on_texts(X_train.values)"
   ]
  },
  {
   "cell_type": "code",
   "execution_count": 22,
   "id": "74523b9e",
   "metadata": {
    "execution": {
     "iopub.execute_input": "2022-03-16T23:06:29.547513Z",
     "iopub.status.busy": "2022-03-16T23:06:29.532185Z",
     "iopub.status.idle": "2022-03-16T23:06:31.923160Z",
     "shell.execute_reply": "2022-03-16T23:06:31.924351Z",
     "shell.execute_reply.started": "2022-03-16T22:02:31.722650Z"
    },
    "jupyter": {
     "source_hidden": true
    },
    "papermill": {
     "duration": 2.48047,
     "end_time": "2022-03-16T23:06:31.924575",
     "exception": false,
     "start_time": "2022-03-16T23:06:29.444105",
     "status": "completed"
    },
    "tags": []
   },
   "outputs": [],
   "source": [
    "X_test = test['Phrase']\n",
    "X_train = tokenize.texts_to_sequences(X_train)\n",
    "X_test = tokenize.texts_to_sequences(X_test)"
   ]
  },
  {
   "cell_type": "code",
   "execution_count": 23,
   "id": "b0c9b180",
   "metadata": {
    "execution": {
     "iopub.execute_input": "2022-03-16T23:06:32.098244Z",
     "iopub.status.busy": "2022-03-16T23:06:32.096230Z",
     "iopub.status.idle": "2022-03-16T23:06:32.099199Z",
     "shell.execute_reply": "2022-03-16T23:06:32.099898Z",
     "shell.execute_reply.started": "2022-03-16T22:02:33.982618Z"
    },
    "papermill": {
     "duration": 0.092299,
     "end_time": "2022-03-16T23:06:32.100107",
     "exception": false,
     "start_time": "2022-03-16T23:06:32.007808",
     "status": "completed"
    },
    "tags": []
   },
   "outputs": [],
   "source": [
    "from tensorflow.keras.preprocessing.sequence import pad_sequences"
   ]
  },
  {
   "cell_type": "code",
   "execution_count": 24,
   "id": "321ef1fb",
   "metadata": {
    "execution": {
     "iopub.execute_input": "2022-03-16T23:06:32.250453Z",
     "iopub.status.busy": "2022-03-16T23:06:32.240220Z",
     "iopub.status.idle": "2022-03-16T23:06:33.394267Z",
     "shell.execute_reply": "2022-03-16T23:06:33.393728Z",
     "shell.execute_reply.started": "2022-03-16T22:02:33.989685Z"
    },
    "papermill": {
     "duration": 1.224585,
     "end_time": "2022-03-16T23:06:33.394409",
     "exception": false,
     "start_time": "2022-03-16T23:06:32.169824",
     "status": "completed"
    },
    "tags": []
   },
   "outputs": [],
   "source": [
    "max_sequence_len = max([len(s.split()) for s in train['Phrase']])\n",
    "X_train = pad_sequences(X_train, max_sequence_len,padding='pre')\n",
    "X_test = pad_sequences(X_test, max_sequence_len,padding='pre')"
   ]
  },
  {
   "cell_type": "markdown",
   "id": "4da3aab0",
   "metadata": {
    "papermill": {
     "duration": 0.051574,
     "end_time": "2022-03-16T23:06:33.498119",
     "exception": false,
     "start_time": "2022-03-16T23:06:33.446545",
     "status": "completed"
    },
    "tags": []
   },
   "source": [
    "## MODELS "
   ]
  },
  {
   "cell_type": "markdown",
   "id": "53508f18",
   "metadata": {
    "papermill": {
     "duration": 0.051571,
     "end_time": "2022-03-16T23:06:33.600841",
     "exception": false,
     "start_time": "2022-03-16T23:06:33.549270",
     "status": "completed"
    },
    "tags": []
   },
   "source": [
    "#### 1. CNN"
   ]
  },
  {
   "cell_type": "code",
   "execution_count": 25,
   "id": "c6a4984b",
   "metadata": {
    "execution": {
     "iopub.execute_input": "2022-03-16T23:06:33.713496Z",
     "iopub.status.busy": "2022-03-16T23:06:33.712868Z",
     "iopub.status.idle": "2022-03-16T23:06:34.183891Z",
     "shell.execute_reply": "2022-03-16T23:06:34.184596Z",
     "shell.execute_reply.started": "2022-03-16T22:02:34.986632Z"
    },
    "papermill": {
     "duration": 0.531195,
     "end_time": "2022-03-16T23:06:34.184841",
     "exception": false,
     "start_time": "2022-03-16T23:06:33.653646",
     "status": "completed"
    },
    "tags": []
   },
   "outputs": [
    {
     "name": "stderr",
     "output_type": "stream",
     "text": [
      "2022-03-16 23:06:33.751970: I tensorflow/stream_executor/cuda/cuda_gpu_executor.cc:937] successful NUMA node read from SysFS had negative value (-1), but there must be at least one NUMA node, so returning NUMA node zero\n",
      "2022-03-16 23:06:33.756902: I tensorflow/stream_executor/cuda/cuda_gpu_executor.cc:937] successful NUMA node read from SysFS had negative value (-1), but there must be at least one NUMA node, so returning NUMA node zero\n",
      "2022-03-16 23:06:33.757662: I tensorflow/stream_executor/cuda/cuda_gpu_executor.cc:937] successful NUMA node read from SysFS had negative value (-1), but there must be at least one NUMA node, so returning NUMA node zero\n",
      "2022-03-16 23:06:33.758766: I tensorflow/core/platform/cpu_feature_guard.cc:142] This TensorFlow binary is optimized with oneAPI Deep Neural Network Library (oneDNN) to use the following CPU instructions in performance-critical operations:  AVX2 AVX512F FMA\n",
      "To enable them in other operations, rebuild TensorFlow with the appropriate compiler flags.\n",
      "2022-03-16 23:06:33.759891: I tensorflow/stream_executor/cuda/cuda_gpu_executor.cc:937] successful NUMA node read from SysFS had negative value (-1), but there must be at least one NUMA node, so returning NUMA node zero\n",
      "2022-03-16 23:06:33.760597: I tensorflow/stream_executor/cuda/cuda_gpu_executor.cc:937] successful NUMA node read from SysFS had negative value (-1), but there must be at least one NUMA node, so returning NUMA node zero\n",
      "2022-03-16 23:06:33.761245: I tensorflow/stream_executor/cuda/cuda_gpu_executor.cc:937] successful NUMA node read from SysFS had negative value (-1), but there must be at least one NUMA node, so returning NUMA node zero\n",
      "2022-03-16 23:06:33.765088: I tensorflow/stream_executor/cuda/cuda_gpu_executor.cc:937] successful NUMA node read from SysFS had negative value (-1), but there must be at least one NUMA node, so returning NUMA node zero\n",
      "2022-03-16 23:06:33.765911: I tensorflow/stream_executor/cuda/cuda_gpu_executor.cc:937] successful NUMA node read from SysFS had negative value (-1), but there must be at least one NUMA node, so returning NUMA node zero\n",
      "2022-03-16 23:06:33.766687: I tensorflow/stream_executor/cuda/cuda_gpu_executor.cc:937] successful NUMA node read from SysFS had negative value (-1), but there must be at least one NUMA node, so returning NUMA node zero\n",
      "2022-03-16 23:06:33.767354: I tensorflow/core/common_runtime/gpu/gpu_device.cc:1510] Created device /job:localhost/replica:0/task:0/device:GPU:0 with 15005 MB memory:  -> device: 0, name: Tesla P100-PCIE-16GB, pci bus id: 0000:00:04.0, compute capability: 6.0\n"
     ]
    }
   ],
   "source": [
    "import tensorflow as tf\n",
    "CNN = tf.keras.Sequential([\n",
    "    tf.keras.layers.Embedding(len(tokenize.word_index)+1, 100, input_length=max_sequence_len),\n",
    "    tf.keras.layers.Conv1D(128, 2, padding='same',activation='relu'),\n",
    "    tf.keras.layers.Dropout(0.2),\n",
    "    tf.keras.layers.Conv1D(64, 2, padding='same',activation='relu'),\n",
    "    tf.keras.layers.Dropout(0.2),\n",
    "    tf.keras.layers.MaxPooling1D(pool_size=2),\n",
    "    tf.keras.layers.Flatten(),\n",
    "    tf.keras.layers.Dense(256, activation='relu'),\n",
    "    tf.keras.layers.Dropout(0.3),\n",
    "    tf.keras.layers.Dense(128, activation='relu'),\n",
    "    tf.keras.layers.Dropout(0.3),\n",
    "    tf.keras.layers.Dense(5, activation='softmax')\n",
    "])"
   ]
  },
  {
   "cell_type": "code",
   "execution_count": 26,
   "id": "13bf1fb7",
   "metadata": {
    "execution": {
     "iopub.execute_input": "2022-03-16T23:06:34.296302Z",
     "iopub.status.busy": "2022-03-16T23:06:34.295420Z",
     "iopub.status.idle": "2022-03-16T23:06:34.306352Z",
     "shell.execute_reply": "2022-03-16T23:06:34.305832Z",
     "shell.execute_reply.started": "2022-03-16T22:02:35.434360Z"
    },
    "papermill": {
     "duration": 0.069053,
     "end_time": "2022-03-16T23:06:34.306479",
     "exception": false,
     "start_time": "2022-03-16T23:06:34.237426",
     "status": "completed"
    },
    "tags": []
   },
   "outputs": [],
   "source": [
    "CNN.compile(loss='sparse_categorical_crossentropy', optimizer='adam', metrics=['accuracy'])"
   ]
  },
  {
   "cell_type": "code",
   "execution_count": 27,
   "id": "49017164",
   "metadata": {
    "execution": {
     "iopub.execute_input": "2022-03-16T23:06:34.413599Z",
     "iopub.status.busy": "2022-03-16T23:06:34.412791Z",
     "iopub.status.idle": "2022-03-16T23:11:10.402323Z",
     "shell.execute_reply": "2022-03-16T23:11:10.401687Z",
     "shell.execute_reply.started": "2022-03-16T22:02:35.447828Z"
    },
    "papermill": {
     "duration": 276.044736,
     "end_time": "2022-03-16T23:11:10.402489",
     "exception": false,
     "start_time": "2022-03-16T23:06:34.357753",
     "status": "completed"
    },
    "tags": []
   },
   "outputs": [
    {
     "name": "stderr",
     "output_type": "stream",
     "text": [
      "2022-03-16 23:06:34.489335: I tensorflow/compiler/mlir/mlir_graph_optimization_pass.cc:185] None of the MLIR Optimization Passes are enabled (registered 2)\n"
     ]
    },
    {
     "name": "stdout",
     "output_type": "stream",
     "text": [
      "Epoch 1/45\n"
     ]
    },
    {
     "name": "stderr",
     "output_type": "stream",
     "text": [
      "2022-03-16 23:06:36.031925: I tensorflow/stream_executor/cuda/cuda_dnn.cc:369] Loaded cuDNN version 8005\n"
     ]
    },
    {
     "name": "stdout",
     "output_type": "stream",
     "text": [
      "1220/1220 [==============================] - 13s 5ms/step - loss: 1.0227 - accuracy: 0.5882\n",
      "Epoch 2/45\n",
      "1220/1220 [==============================] - 6s 5ms/step - loss: 0.8226 - accuracy: 0.6596\n",
      "Epoch 3/45\n",
      "1220/1220 [==============================] - 6s 5ms/step - loss: 0.7553 - accuracy: 0.6838\n",
      "Epoch 4/45\n",
      "1220/1220 [==============================] - 6s 5ms/step - loss: 0.7145 - accuracy: 0.6977\n",
      "Epoch 5/45\n",
      "1220/1220 [==============================] - 6s 5ms/step - loss: 0.6849 - accuracy: 0.7077\n",
      "Epoch 6/45\n",
      "1220/1220 [==============================] - 7s 5ms/step - loss: 0.6629 - accuracy: 0.7160\n",
      "Epoch 7/45\n",
      "1220/1220 [==============================] - 6s 5ms/step - loss: 0.6438 - accuracy: 0.7224\n",
      "Epoch 8/45\n",
      "1220/1220 [==============================] - 6s 5ms/step - loss: 0.6294 - accuracy: 0.7271\n",
      "Epoch 9/45\n",
      "1220/1220 [==============================] - 6s 5ms/step - loss: 0.6159 - accuracy: 0.7326\n",
      "Epoch 10/45\n",
      "1220/1220 [==============================] - 6s 5ms/step - loss: 0.6035 - accuracy: 0.7357\n",
      "Epoch 11/45\n",
      "1220/1220 [==============================] - 6s 5ms/step - loss: 0.5927 - accuracy: 0.7396\n",
      "Epoch 12/45\n",
      "1220/1220 [==============================] - 6s 5ms/step - loss: 0.5856 - accuracy: 0.7421\n",
      "Epoch 13/45\n",
      "1220/1220 [==============================] - 6s 5ms/step - loss: 0.5776 - accuracy: 0.7449\n",
      "Epoch 14/45\n",
      "1220/1220 [==============================] - 6s 5ms/step - loss: 0.5684 - accuracy: 0.7477\n",
      "Epoch 15/45\n",
      "1220/1220 [==============================] - 6s 5ms/step - loss: 0.5630 - accuracy: 0.7483\n",
      "Epoch 16/45\n",
      "1220/1220 [==============================] - 6s 5ms/step - loss: 0.5563 - accuracy: 0.7516\n",
      "Epoch 17/45\n",
      "1220/1220 [==============================] - 6s 5ms/step - loss: 0.5510 - accuracy: 0.7545\n",
      "Epoch 18/45\n",
      "1220/1220 [==============================] - 6s 5ms/step - loss: 0.5453 - accuracy: 0.7550\n",
      "Epoch 19/45\n",
      "1220/1220 [==============================] - 6s 5ms/step - loss: 0.5405 - accuracy: 0.7562\n",
      "Epoch 20/45\n",
      "1220/1220 [==============================] - 6s 5ms/step - loss: 0.5356 - accuracy: 0.7573\n",
      "Epoch 21/45\n",
      "1220/1220 [==============================] - 6s 5ms/step - loss: 0.5318 - accuracy: 0.7589\n",
      "Epoch 22/45\n",
      "1220/1220 [==============================] - 6s 5ms/step - loss: 0.5272 - accuracy: 0.7599\n",
      "Epoch 23/45\n",
      "1220/1220 [==============================] - 6s 5ms/step - loss: 0.5235 - accuracy: 0.7611\n",
      "Epoch 24/45\n",
      "1220/1220 [==============================] - 6s 5ms/step - loss: 0.5198 - accuracy: 0.7623\n",
      "Epoch 25/45\n",
      "1220/1220 [==============================] - 6s 5ms/step - loss: 0.5179 - accuracy: 0.7636\n",
      "Epoch 26/45\n",
      "1220/1220 [==============================] - 6s 5ms/step - loss: 0.5125 - accuracy: 0.7665\n",
      "Epoch 27/45\n",
      "1220/1220 [==============================] - 6s 5ms/step - loss: 0.5124 - accuracy: 0.7662\n",
      "Epoch 28/45\n",
      "1220/1220 [==============================] - 6s 5ms/step - loss: 0.5078 - accuracy: 0.7679\n",
      "Epoch 29/45\n",
      "1220/1220 [==============================] - 6s 5ms/step - loss: 0.5043 - accuracy: 0.7683\n",
      "Epoch 30/45\n",
      "1220/1220 [==============================] - 6s 5ms/step - loss: 0.5041 - accuracy: 0.7692\n",
      "Epoch 31/45\n",
      "1220/1220 [==============================] - 5s 4ms/step - loss: 0.4988 - accuracy: 0.7708\n",
      "Epoch 32/45\n",
      "1220/1220 [==============================] - 6s 5ms/step - loss: 0.4989 - accuracy: 0.7717\n",
      "Epoch 33/45\n",
      "1220/1220 [==============================] - 6s 5ms/step - loss: 0.4947 - accuracy: 0.7716\n",
      "Epoch 34/45\n",
      "1220/1220 [==============================] - 5s 4ms/step - loss: 0.4937 - accuracy: 0.7727\n",
      "Epoch 35/45\n",
      "1220/1220 [==============================] - 6s 5ms/step - loss: 0.4919 - accuracy: 0.7737\n",
      "Epoch 36/45\n",
      "1220/1220 [==============================] - 6s 5ms/step - loss: 0.4878 - accuracy: 0.7745\n",
      "Epoch 37/45\n",
      "1220/1220 [==============================] - 6s 5ms/step - loss: 0.4880 - accuracy: 0.7752\n",
      "Epoch 38/45\n",
      "1220/1220 [==============================] - 6s 5ms/step - loss: 0.4847 - accuracy: 0.7753\n",
      "Epoch 39/45\n",
      "1220/1220 [==============================] - 6s 5ms/step - loss: 0.4826 - accuracy: 0.7763\n",
      "Epoch 40/45\n",
      "1220/1220 [==============================] - 5s 4ms/step - loss: 0.4796 - accuracy: 0.7779\n",
      "Epoch 41/45\n",
      "1220/1220 [==============================] - 6s 5ms/step - loss: 0.4791 - accuracy: 0.7774\n",
      "Epoch 42/45\n",
      "1220/1220 [==============================] - 6s 5ms/step - loss: 0.4789 - accuracy: 0.7782\n",
      "Epoch 43/45\n",
      "1220/1220 [==============================] - 6s 5ms/step - loss: 0.4760 - accuracy: 0.7777\n",
      "Epoch 44/45\n",
      "1220/1220 [==============================] - 6s 5ms/step - loss: 0.4750 - accuracy: 0.7788\n",
      "Epoch 45/45\n",
      "1220/1220 [==============================] - 5s 4ms/step - loss: 0.4746 - accuracy: 0.7787\n"
     ]
    }
   ],
   "source": [
    "history_CNN=CNN.fit(X_train, y_train,batch_size=128, epochs=45, verbose=1)"
   ]
  },
  {
   "cell_type": "code",
   "execution_count": 28,
   "id": "361c6c37",
   "metadata": {
    "execution": {
     "iopub.execute_input": "2022-03-16T23:11:13.806606Z",
     "iopub.status.busy": "2022-03-16T23:11:13.805992Z",
     "iopub.status.idle": "2022-03-16T23:11:13.868407Z",
     "shell.execute_reply": "2022-03-16T23:11:13.868906Z",
     "shell.execute_reply.started": "2022-03-16T22:06:41.507200Z"
    },
    "papermill": {
     "duration": 1.766512,
     "end_time": "2022-03-16T23:11:13.869084",
     "exception": false,
     "start_time": "2022-03-16T23:11:12.102572",
     "status": "completed"
    },
    "tags": []
   },
   "outputs": [],
   "source": [
    "CNN.save('CNN_Model.h5')"
   ]
  },
  {
   "cell_type": "code",
   "execution_count": 29,
   "id": "cd4098ce",
   "metadata": {
    "execution": {
     "iopub.execute_input": "2022-03-16T23:11:17.248050Z",
     "iopub.status.busy": "2022-03-16T23:11:17.247214Z",
     "iopub.status.idle": "2022-03-16T23:11:17.249852Z",
     "shell.execute_reply": "2022-03-16T23:11:17.249398Z",
     "shell.execute_reply.started": "2022-03-16T22:06:41.572648Z"
    },
    "papermill": {
     "duration": 1.720568,
     "end_time": "2022-03-16T23:11:17.249968",
     "exception": false,
     "start_time": "2022-03-16T23:11:15.529400",
     "status": "completed"
    },
    "tags": []
   },
   "outputs": [],
   "source": [
    "import numpy as np"
   ]
  },
  {
   "cell_type": "code",
   "execution_count": 30,
   "id": "131c3b6d",
   "metadata": {
    "execution": {
     "iopub.execute_input": "2022-03-16T23:11:20.902013Z",
     "iopub.status.busy": "2022-03-16T23:11:20.901208Z",
     "iopub.status.idle": "2022-03-16T23:11:23.629217Z",
     "shell.execute_reply": "2022-03-16T23:11:23.629693Z",
     "shell.execute_reply.started": "2022-03-16T22:06:41.578062Z"
    },
    "papermill": {
     "duration": 4.421825,
     "end_time": "2022-03-16T23:11:23.629862",
     "exception": false,
     "start_time": "2022-03-16T23:11:19.208037",
     "status": "completed"
    },
    "tags": []
   },
   "outputs": [],
   "source": [
    "predict_x_CNN=CNN.predict(X_test) \n",
    "classes_x_CNN=np.argmax(predict_x_CNN,axis=1)"
   ]
  },
  {
   "cell_type": "code",
   "execution_count": 31,
   "id": "78ebf318",
   "metadata": {
    "execution": {
     "iopub.execute_input": "2022-03-16T23:11:27.006798Z",
     "iopub.status.busy": "2022-03-16T23:11:27.005784Z",
     "iopub.status.idle": "2022-03-16T23:11:27.051459Z",
     "shell.execute_reply": "2022-03-16T23:11:27.051866Z",
     "shell.execute_reply.started": "2022-03-16T22:06:44.250457Z"
    },
    "papermill": {
     "duration": 1.737413,
     "end_time": "2022-03-16T23:11:27.052016",
     "exception": false,
     "start_time": "2022-03-16T23:11:25.314603",
     "status": "completed"
    },
    "tags": []
   },
   "outputs": [
    {
     "data": {
      "text/html": [
       "<div>\n",
       "<style scoped>\n",
       "    .dataframe tbody tr th:only-of-type {\n",
       "        vertical-align: middle;\n",
       "    }\n",
       "\n",
       "    .dataframe tbody tr th {\n",
       "        vertical-align: top;\n",
       "    }\n",
       "\n",
       "    .dataframe thead th {\n",
       "        text-align: right;\n",
       "    }\n",
       "</style>\n",
       "<table border=\"1\" class=\"dataframe\">\n",
       "  <thead>\n",
       "    <tr style=\"text-align: right;\">\n",
       "      <th></th>\n",
       "      <th>PhraseId</th>\n",
       "      <th>Sentiment</th>\n",
       "    </tr>\n",
       "  </thead>\n",
       "  <tbody>\n",
       "    <tr>\n",
       "      <th>0</th>\n",
       "      <td>156061</td>\n",
       "      <td>2</td>\n",
       "    </tr>\n",
       "    <tr>\n",
       "      <th>1</th>\n",
       "      <td>156062</td>\n",
       "      <td>2</td>\n",
       "    </tr>\n",
       "    <tr>\n",
       "      <th>2</th>\n",
       "      <td>156063</td>\n",
       "      <td>2</td>\n",
       "    </tr>\n",
       "    <tr>\n",
       "      <th>3</th>\n",
       "      <td>156064</td>\n",
       "      <td>2</td>\n",
       "    </tr>\n",
       "    <tr>\n",
       "      <th>4</th>\n",
       "      <td>156065</td>\n",
       "      <td>3</td>\n",
       "    </tr>\n",
       "    <tr>\n",
       "      <th>...</th>\n",
       "      <td>...</td>\n",
       "      <td>...</td>\n",
       "    </tr>\n",
       "    <tr>\n",
       "      <th>66287</th>\n",
       "      <td>222348</td>\n",
       "      <td>1</td>\n",
       "    </tr>\n",
       "    <tr>\n",
       "      <th>66288</th>\n",
       "      <td>222349</td>\n",
       "      <td>1</td>\n",
       "    </tr>\n",
       "    <tr>\n",
       "      <th>66289</th>\n",
       "      <td>222350</td>\n",
       "      <td>1</td>\n",
       "    </tr>\n",
       "    <tr>\n",
       "      <th>66290</th>\n",
       "      <td>222351</td>\n",
       "      <td>1</td>\n",
       "    </tr>\n",
       "    <tr>\n",
       "      <th>66291</th>\n",
       "      <td>222352</td>\n",
       "      <td>1</td>\n",
       "    </tr>\n",
       "  </tbody>\n",
       "</table>\n",
       "<p>66292 rows × 2 columns</p>\n",
       "</div>"
      ],
      "text/plain": [
       "       PhraseId  Sentiment\n",
       "0        156061          2\n",
       "1        156062          2\n",
       "2        156063          2\n",
       "3        156064          2\n",
       "4        156065          3\n",
       "...         ...        ...\n",
       "66287    222348          1\n",
       "66288    222349          1\n",
       "66289    222350          1\n",
       "66290    222351          1\n",
       "66291    222352          1\n",
       "\n",
       "[66292 rows x 2 columns]"
      ]
     },
     "execution_count": 31,
     "metadata": {},
     "output_type": "execute_result"
    }
   ],
   "source": [
    "final_df=pd.DataFrame(test['PhraseId'],columns=['PhraseId'])\n",
    "final_df['Sentiment']=classes_x_CNN\n",
    "final_df"
   ]
  },
  {
   "cell_type": "code",
   "execution_count": 32,
   "id": "d8974720",
   "metadata": {
    "execution": {
     "iopub.execute_input": "2022-03-16T23:11:30.743467Z",
     "iopub.status.busy": "2022-03-16T23:11:30.742762Z",
     "iopub.status.idle": "2022-03-16T23:11:30.746113Z",
     "shell.execute_reply": "2022-03-16T23:11:30.746601Z",
     "shell.execute_reply.started": "2022-03-16T22:06:44.301626Z"
    },
    "papermill": {
     "duration": 1.753961,
     "end_time": "2022-03-16T23:11:30.746754",
     "exception": false,
     "start_time": "2022-03-16T23:11:28.992793",
     "status": "completed"
    },
    "tags": []
   },
   "outputs": [
    {
     "data": {
      "text/plain": [
       "(66292, 2)"
      ]
     },
     "execution_count": 32,
     "metadata": {},
     "output_type": "execute_result"
    }
   ],
   "source": [
    "final_df.shape"
   ]
  },
  {
   "cell_type": "code",
   "execution_count": 33,
   "id": "a866018c",
   "metadata": {
    "execution": {
     "iopub.execute_input": "2022-03-16T23:11:34.089190Z",
     "iopub.status.busy": "2022-03-16T23:11:34.088637Z",
     "iopub.status.idle": "2022-03-16T23:11:34.099235Z",
     "shell.execute_reply": "2022-03-16T23:11:34.098770Z",
     "shell.execute_reply.started": "2022-03-16T22:06:44.309178Z"
    },
    "papermill": {
     "duration": 1.690357,
     "end_time": "2022-03-16T23:11:34.099351",
     "exception": false,
     "start_time": "2022-03-16T23:11:32.408994",
     "status": "completed"
    },
    "tags": []
   },
   "outputs": [],
   "source": [
    "filename='./submission.csv'\n",
    "final_df.to_csv(filename,index=False)"
   ]
  },
  {
   "cell_type": "markdown",
   "id": "66403742",
   "metadata": {
    "papermill": {
     "duration": 2.384686,
     "end_time": "2022-03-16T23:11:38.562944",
     "exception": false,
     "start_time": "2022-03-16T23:11:36.178258",
     "status": "completed"
    },
    "tags": []
   },
   "source": [
    "#### 2. Logistic Regression"
   ]
  },
  {
   "cell_type": "code",
   "execution_count": 34,
   "id": "13a7bb43",
   "metadata": {
    "execution": {
     "iopub.execute_input": "2022-03-16T23:11:42.811442Z",
     "iopub.status.busy": "2022-03-16T23:11:42.810059Z",
     "iopub.status.idle": "2022-03-16T23:11:51.539348Z",
     "shell.execute_reply": "2022-03-16T23:11:51.539982Z",
     "shell.execute_reply.started": "2022-03-16T22:07:30.611532Z"
    },
    "papermill": {
     "duration": 10.702818,
     "end_time": "2022-03-16T23:11:51.540188",
     "exception": false,
     "start_time": "2022-03-16T23:11:40.837370",
     "status": "completed"
    },
    "tags": []
   },
   "outputs": [
    {
     "name": "stdout",
     "output_type": "stream",
     "text": [
      "[W] [23:11:48.785994] L-BFGS: max iterations reached\n",
      "[W] [23:11:48.786367] Maximum iterations reached before solver is converged. To increase model accuracy you can increase the number of iterations (max_iter) or improve the scaling of the input data.\n",
      "[W] [23:11:49.584707] L-BFGS: max iterations reached\n",
      "[W] [23:11:49.585562] Maximum iterations reached before solver is converged. To increase model accuracy you can increase the number of iterations (max_iter) or improve the scaling of the input data.\n",
      "[W] [23:11:50.532043] L-BFGS: max iterations reached\n",
      "[W] [23:11:50.533035] Maximum iterations reached before solver is converged. To increase model accuracy you can increase the number of iterations (max_iter) or improve the scaling of the input data.\n",
      "[W] [23:11:51.497096] L-BFGS: max iterations reached\n",
      "[W] [23:11:51.498019] Maximum iterations reached before solver is converged. To increase model accuracy you can increase the number of iterations (max_iter) or improve the scaling of the input data.\n"
     ]
    }
   ],
   "source": [
    "LR = OneVsRestClassifier(LogisticRegression())\n",
    "LR.fit(X_train.astype('float32'),y_train.astype('float32'))\n",
    "LRPred = LR.predict(X_test.astype('float32'))\n",
    "LRPred = LRPred.astype('int32')\n"
   ]
  },
  {
   "cell_type": "code",
   "execution_count": 35,
   "id": "3064d382",
   "metadata": {
    "execution": {
     "iopub.execute_input": "2022-03-16T23:11:55.635060Z",
     "iopub.status.busy": "2022-03-16T23:11:55.633725Z",
     "iopub.status.idle": "2022-03-16T23:11:55.644488Z",
     "shell.execute_reply": "2022-03-16T23:11:55.645265Z",
     "shell.execute_reply.started": "2022-03-16T22:07:36.580456Z"
    },
    "papermill": {
     "duration": 2.010646,
     "end_time": "2022-03-16T23:11:55.645514",
     "exception": false,
     "start_time": "2022-03-16T23:11:53.634868",
     "status": "completed"
    },
    "tags": []
   },
   "outputs": [
    {
     "name": "stdout",
     "output_type": "stream",
     "text": [
      "0.5083116888999939\n"
     ]
    }
   ],
   "source": [
    "print(cuml.metrics.accuracy_score(y_train, LRPred))"
   ]
  },
  {
   "cell_type": "code",
   "execution_count": 36,
   "id": "5f070089",
   "metadata": {
    "execution": {
     "iopub.execute_input": "2022-03-16T23:11:59.753218Z",
     "iopub.status.busy": "2022-03-16T23:11:59.752101Z",
     "iopub.status.idle": "2022-03-16T23:11:59.814092Z",
     "shell.execute_reply": "2022-03-16T23:11:59.814634Z",
     "shell.execute_reply.started": "2022-03-16T22:07:53.726887Z"
    },
    "papermill": {
     "duration": 2.158905,
     "end_time": "2022-03-16T23:11:59.814854",
     "exception": false,
     "start_time": "2022-03-16T23:11:57.655949",
     "status": "completed"
    },
    "tags": []
   },
   "outputs": [
    {
     "data": {
      "text/html": [
       "<div>\n",
       "<style scoped>\n",
       "    .dataframe tbody tr th:only-of-type {\n",
       "        vertical-align: middle;\n",
       "    }\n",
       "\n",
       "    .dataframe tbody tr th {\n",
       "        vertical-align: top;\n",
       "    }\n",
       "\n",
       "    .dataframe thead th {\n",
       "        text-align: right;\n",
       "    }\n",
       "</style>\n",
       "<table border=\"1\" class=\"dataframe\">\n",
       "  <thead>\n",
       "    <tr style=\"text-align: right;\">\n",
       "      <th></th>\n",
       "      <th>PhraseId</th>\n",
       "      <th>Sentiment</th>\n",
       "    </tr>\n",
       "  </thead>\n",
       "  <tbody>\n",
       "    <tr>\n",
       "      <th>0</th>\n",
       "      <td>156061</td>\n",
       "      <td>2</td>\n",
       "    </tr>\n",
       "    <tr>\n",
       "      <th>1</th>\n",
       "      <td>156062</td>\n",
       "      <td>2</td>\n",
       "    </tr>\n",
       "    <tr>\n",
       "      <th>2</th>\n",
       "      <td>156063</td>\n",
       "      <td>2</td>\n",
       "    </tr>\n",
       "    <tr>\n",
       "      <th>3</th>\n",
       "      <td>156064</td>\n",
       "      <td>2</td>\n",
       "    </tr>\n",
       "    <tr>\n",
       "      <th>4</th>\n",
       "      <td>156065</td>\n",
       "      <td>2</td>\n",
       "    </tr>\n",
       "    <tr>\n",
       "      <th>...</th>\n",
       "      <td>...</td>\n",
       "      <td>...</td>\n",
       "    </tr>\n",
       "    <tr>\n",
       "      <th>66287</th>\n",
       "      <td>222348</td>\n",
       "      <td>2</td>\n",
       "    </tr>\n",
       "    <tr>\n",
       "      <th>66288</th>\n",
       "      <td>222349</td>\n",
       "      <td>2</td>\n",
       "    </tr>\n",
       "    <tr>\n",
       "      <th>66289</th>\n",
       "      <td>222350</td>\n",
       "      <td>2</td>\n",
       "    </tr>\n",
       "    <tr>\n",
       "      <th>66290</th>\n",
       "      <td>222351</td>\n",
       "      <td>2</td>\n",
       "    </tr>\n",
       "    <tr>\n",
       "      <th>66291</th>\n",
       "      <td>222352</td>\n",
       "      <td>2</td>\n",
       "    </tr>\n",
       "  </tbody>\n",
       "</table>\n",
       "<p>66292 rows × 2 columns</p>\n",
       "</div>"
      ],
      "text/plain": [
       "       PhraseId  Sentiment\n",
       "0        156061          2\n",
       "1        156062          2\n",
       "2        156063          2\n",
       "3        156064          2\n",
       "4        156065          2\n",
       "...         ...        ...\n",
       "66287    222348          2\n",
       "66288    222349          2\n",
       "66289    222350          2\n",
       "66290    222351          2\n",
       "66291    222352          2\n",
       "\n",
       "[66292 rows x 2 columns]"
      ]
     },
     "execution_count": 36,
     "metadata": {},
     "output_type": "execute_result"
    }
   ],
   "source": [
    "final_df=pd.DataFrame(test['PhraseId'],columns=['PhraseId'])\n",
    "final_df['Sentiment']=LRPred\n",
    "final_df"
   ]
  },
  {
   "cell_type": "code",
   "execution_count": 37,
   "id": "564f4787",
   "metadata": {
    "execution": {
     "iopub.execute_input": "2022-03-16T23:12:04.168921Z",
     "iopub.status.busy": "2022-03-16T23:12:04.167086Z",
     "iopub.status.idle": "2022-03-16T23:12:04.169686Z",
     "shell.execute_reply": "2022-03-16T23:12:04.170251Z",
     "shell.execute_reply.started": "2022-03-16T22:08:00.067525Z"
    },
    "papermill": {
     "duration": 2.057028,
     "end_time": "2022-03-16T23:12:04.170437",
     "exception": false,
     "start_time": "2022-03-16T23:12:02.113409",
     "status": "completed"
    },
    "tags": []
   },
   "outputs": [],
   "source": [
    "# filename='./submission.csv'\n",
    "# final_df.to_csv(filename,index=False)"
   ]
  },
  {
   "cell_type": "markdown",
   "id": "a4fc54fb",
   "metadata": {
    "papermill": {
     "duration": 2.013128,
     "end_time": "2022-03-16T23:12:08.182075",
     "exception": false,
     "start_time": "2022-03-16T23:12:06.168947",
     "status": "completed"
    },
    "tags": []
   },
   "source": [
    "#### 3. Random forest"
   ]
  },
  {
   "cell_type": "code",
   "execution_count": 38,
   "id": "49bd66e7",
   "metadata": {
    "_kg_hide-output": true,
    "execution": {
     "iopub.execute_input": "2022-03-16T23:12:13.138891Z",
     "iopub.status.busy": "2022-03-16T23:12:13.137862Z",
     "iopub.status.idle": "2022-03-16T23:12:15.716770Z",
     "shell.execute_reply": "2022-03-16T23:12:15.717282Z",
     "shell.execute_reply.started": "2022-03-16T22:08:03.119863Z"
    },
    "papermill": {
     "duration": 4.867075,
     "end_time": "2022-03-16T23:12:15.717479",
     "exception": false,
     "start_time": "2022-03-16T23:12:10.850404",
     "status": "completed"
    },
    "tags": []
   },
   "outputs": [],
   "source": [
    "Model= cuRFC(max_features=1.0,n_bins=8,n_estimators=40)\n",
    "Model.fit(X_train.astype('float32'),y_train.astype('float32'))\n",
    "RFPred = Model.predict(X_test.astype('float32'))\n",
    "RFPRred = RFPred.astype('int32')"
   ]
  },
  {
   "cell_type": "code",
   "execution_count": 39,
   "id": "b468ca95",
   "metadata": {
    "execution": {
     "iopub.execute_input": "2022-03-16T23:12:19.735101Z",
     "iopub.status.busy": "2022-03-16T23:12:19.733972Z",
     "iopub.status.idle": "2022-03-16T23:12:19.742391Z",
     "shell.execute_reply": "2022-03-16T23:12:19.743160Z",
     "shell.execute_reply.started": "2022-03-16T22:08:12.554978Z"
    },
    "papermill": {
     "duration": 2.025636,
     "end_time": "2022-03-16T23:12:19.743405",
     "exception": false,
     "start_time": "2022-03-16T23:12:17.717769",
     "status": "completed"
    },
    "tags": []
   },
   "outputs": [
    {
     "name": "stdout",
     "output_type": "stream",
     "text": [
      "0.4602515995502472\n"
     ]
    }
   ],
   "source": [
    "print(cuml.metrics.accuracy_score(y_train, RFPred))"
   ]
  },
  {
   "cell_type": "code",
   "execution_count": 40,
   "id": "250f8a0a",
   "metadata": {
    "execution": {
     "iopub.execute_input": "2022-03-16T23:12:24.024329Z",
     "iopub.status.busy": "2022-03-16T23:12:24.023341Z",
     "iopub.status.idle": "2022-03-16T23:12:24.110769Z",
     "shell.execute_reply": "2022-03-16T23:12:24.112165Z",
     "shell.execute_reply.started": "2022-03-16T22:08:10.780956Z"
    },
    "papermill": {
     "duration": 2.371974,
     "end_time": "2022-03-16T23:12:24.112445",
     "exception": false,
     "start_time": "2022-03-16T23:12:21.740471",
     "status": "completed"
    },
    "tags": []
   },
   "outputs": [
    {
     "data": {
      "text/html": [
       "<div>\n",
       "<style scoped>\n",
       "    .dataframe tbody tr th:only-of-type {\n",
       "        vertical-align: middle;\n",
       "    }\n",
       "\n",
       "    .dataframe tbody tr th {\n",
       "        vertical-align: top;\n",
       "    }\n",
       "\n",
       "    .dataframe thead th {\n",
       "        text-align: right;\n",
       "    }\n",
       "</style>\n",
       "<table border=\"1\" class=\"dataframe\">\n",
       "  <thead>\n",
       "    <tr style=\"text-align: right;\">\n",
       "      <th></th>\n",
       "      <th>PhraseId</th>\n",
       "      <th>Sentiment</th>\n",
       "    </tr>\n",
       "  </thead>\n",
       "  <tbody>\n",
       "    <tr>\n",
       "      <th>0</th>\n",
       "      <td>156061</td>\n",
       "      <td>3.0</td>\n",
       "    </tr>\n",
       "    <tr>\n",
       "      <th>1</th>\n",
       "      <td>156062</td>\n",
       "      <td>3.0</td>\n",
       "    </tr>\n",
       "    <tr>\n",
       "      <th>2</th>\n",
       "      <td>156063</td>\n",
       "      <td>2.0</td>\n",
       "    </tr>\n",
       "    <tr>\n",
       "      <th>3</th>\n",
       "      <td>156064</td>\n",
       "      <td>3.0</td>\n",
       "    </tr>\n",
       "    <tr>\n",
       "      <th>4</th>\n",
       "      <td>156065</td>\n",
       "      <td>2.0</td>\n",
       "    </tr>\n",
       "    <tr>\n",
       "      <th>...</th>\n",
       "      <td>...</td>\n",
       "      <td>...</td>\n",
       "    </tr>\n",
       "    <tr>\n",
       "      <th>66287</th>\n",
       "      <td>222348</td>\n",
       "      <td>2.0</td>\n",
       "    </tr>\n",
       "    <tr>\n",
       "      <th>66288</th>\n",
       "      <td>222349</td>\n",
       "      <td>2.0</td>\n",
       "    </tr>\n",
       "    <tr>\n",
       "      <th>66289</th>\n",
       "      <td>222350</td>\n",
       "      <td>2.0</td>\n",
       "    </tr>\n",
       "    <tr>\n",
       "      <th>66290</th>\n",
       "      <td>222351</td>\n",
       "      <td>2.0</td>\n",
       "    </tr>\n",
       "    <tr>\n",
       "      <th>66291</th>\n",
       "      <td>222352</td>\n",
       "      <td>2.0</td>\n",
       "    </tr>\n",
       "  </tbody>\n",
       "</table>\n",
       "<p>66292 rows × 2 columns</p>\n",
       "</div>"
      ],
      "text/plain": [
       "       PhraseId  Sentiment\n",
       "0        156061        3.0\n",
       "1        156062        3.0\n",
       "2        156063        2.0\n",
       "3        156064        3.0\n",
       "4        156065        2.0\n",
       "...         ...        ...\n",
       "66287    222348        2.0\n",
       "66288    222349        2.0\n",
       "66289    222350        2.0\n",
       "66290    222351        2.0\n",
       "66291    222352        2.0\n",
       "\n",
       "[66292 rows x 2 columns]"
      ]
     },
     "execution_count": 40,
     "metadata": {},
     "output_type": "execute_result"
    }
   ],
   "source": [
    "final_df=pd.DataFrame(test['PhraseId'],columns=['PhraseId'])\n",
    "final_df['Sentiment']=RFPred\n",
    "final_df"
   ]
  },
  {
   "cell_type": "code",
   "execution_count": 41,
   "id": "283b5ecd",
   "metadata": {
    "execution": {
     "iopub.execute_input": "2022-03-16T23:12:28.148642Z",
     "iopub.status.busy": "2022-03-16T23:12:28.147460Z",
     "iopub.status.idle": "2022-03-16T23:12:28.150211Z",
     "shell.execute_reply": "2022-03-16T23:12:28.149600Z",
     "shell.execute_reply.started": "2022-03-16T22:08:16.255591Z"
    },
    "papermill": {
     "duration": 1.997762,
     "end_time": "2022-03-16T23:12:28.150363",
     "exception": false,
     "start_time": "2022-03-16T23:12:26.152601",
     "status": "completed"
    },
    "tags": []
   },
   "outputs": [],
   "source": [
    "# filename='./submission.csv'\n",
    "# final_df.to_csv(filename,index=False)"
   ]
  },
  {
   "cell_type": "markdown",
   "id": "6822a50b",
   "metadata": {
    "papermill": {
     "duration": 1.960223,
     "end_time": "2022-03-16T23:12:32.127678",
     "exception": false,
     "start_time": "2022-03-16T23:12:30.167455",
     "status": "completed"
    },
    "tags": []
   },
   "source": [
    "#### 4. Naive Bayes"
   ]
  },
  {
   "cell_type": "code",
   "execution_count": 42,
   "id": "83ff62bf",
   "metadata": {
    "execution": {
     "iopub.execute_input": "2022-03-16T23:12:36.400128Z",
     "iopub.status.busy": "2022-03-16T23:12:36.398031Z",
     "iopub.status.idle": "2022-03-16T23:12:40.695519Z",
     "shell.execute_reply": "2022-03-16T23:12:40.694677Z",
     "shell.execute_reply.started": "2022-03-16T22:08:19.161076Z"
    },
    "papermill": {
     "duration": 6.616335,
     "end_time": "2022-03-16T23:12:40.695662",
     "exception": false,
     "start_time": "2022-03-16T23:12:34.079327",
     "status": "completed"
    },
    "tags": []
   },
   "outputs": [],
   "source": [
    "bayes = MultinomialNB()\n",
    "bayes.fit(X_train, y_train)\n",
    "bayesPred=bayes.predict(X_test)"
   ]
  },
  {
   "cell_type": "code",
   "execution_count": 43,
   "id": "fb1b8c96",
   "metadata": {
    "execution": {
     "iopub.execute_input": "2022-03-16T23:12:45.158231Z",
     "iopub.status.busy": "2022-03-16T23:12:45.157044Z",
     "iopub.status.idle": "2022-03-16T23:12:45.164288Z",
     "shell.execute_reply": "2022-03-16T23:12:45.164996Z",
     "shell.execute_reply.started": "2022-03-16T22:08:23.287408Z"
    },
    "papermill": {
     "duration": 2.00832,
     "end_time": "2022-03-16T23:12:45.165236",
     "exception": false,
     "start_time": "2022-03-16T23:12:43.156916",
     "status": "completed"
    },
    "tags": []
   },
   "outputs": [
    {
     "name": "stdout",
     "output_type": "stream",
     "text": [
      "0.424983412027359\n"
     ]
    }
   ],
   "source": [
    "print(cuml.metrics.accuracy_score(y_train, bayesPred ))"
   ]
  },
  {
   "cell_type": "code",
   "execution_count": 44,
   "id": "8a3e28f7",
   "metadata": {
    "execution": {
     "iopub.execute_input": "2022-03-16T23:12:49.539986Z",
     "iopub.status.busy": "2022-03-16T23:12:49.538557Z",
     "iopub.status.idle": "2022-03-16T23:12:49.594687Z",
     "shell.execute_reply": "2022-03-16T23:12:49.595171Z",
     "shell.execute_reply.started": "2022-03-16T22:08:26.259812Z"
    },
    "papermill": {
     "duration": 2.122192,
     "end_time": "2022-03-16T23:12:49.595354",
     "exception": false,
     "start_time": "2022-03-16T23:12:47.473162",
     "status": "completed"
    },
    "tags": []
   },
   "outputs": [
    {
     "data": {
      "text/html": [
       "<div>\n",
       "<style scoped>\n",
       "    .dataframe tbody tr th:only-of-type {\n",
       "        vertical-align: middle;\n",
       "    }\n",
       "\n",
       "    .dataframe tbody tr th {\n",
       "        vertical-align: top;\n",
       "    }\n",
       "\n",
       "    .dataframe thead th {\n",
       "        text-align: right;\n",
       "    }\n",
       "</style>\n",
       "<table border=\"1\" class=\"dataframe\">\n",
       "  <thead>\n",
       "    <tr style=\"text-align: right;\">\n",
       "      <th></th>\n",
       "      <th>PhraseId</th>\n",
       "      <th>Sentiment</th>\n",
       "    </tr>\n",
       "  </thead>\n",
       "  <tbody>\n",
       "    <tr>\n",
       "      <th>0</th>\n",
       "      <td>156061</td>\n",
       "      <td>0</td>\n",
       "    </tr>\n",
       "    <tr>\n",
       "      <th>1</th>\n",
       "      <td>156062</td>\n",
       "      <td>0</td>\n",
       "    </tr>\n",
       "    <tr>\n",
       "      <th>2</th>\n",
       "      <td>156063</td>\n",
       "      <td>2</td>\n",
       "    </tr>\n",
       "    <tr>\n",
       "      <th>3</th>\n",
       "      <td>156064</td>\n",
       "      <td>0</td>\n",
       "    </tr>\n",
       "    <tr>\n",
       "      <th>4</th>\n",
       "      <td>156065</td>\n",
       "      <td>1</td>\n",
       "    </tr>\n",
       "    <tr>\n",
       "      <th>...</th>\n",
       "      <td>...</td>\n",
       "      <td>...</td>\n",
       "    </tr>\n",
       "    <tr>\n",
       "      <th>66287</th>\n",
       "      <td>222348</td>\n",
       "      <td>2</td>\n",
       "    </tr>\n",
       "    <tr>\n",
       "      <th>66288</th>\n",
       "      <td>222349</td>\n",
       "      <td>2</td>\n",
       "    </tr>\n",
       "    <tr>\n",
       "      <th>66289</th>\n",
       "      <td>222350</td>\n",
       "      <td>2</td>\n",
       "    </tr>\n",
       "    <tr>\n",
       "      <th>66290</th>\n",
       "      <td>222351</td>\n",
       "      <td>2</td>\n",
       "    </tr>\n",
       "    <tr>\n",
       "      <th>66291</th>\n",
       "      <td>222352</td>\n",
       "      <td>2</td>\n",
       "    </tr>\n",
       "  </tbody>\n",
       "</table>\n",
       "<p>66292 rows × 2 columns</p>\n",
       "</div>"
      ],
      "text/plain": [
       "       PhraseId  Sentiment\n",
       "0        156061          0\n",
       "1        156062          0\n",
       "2        156063          2\n",
       "3        156064          0\n",
       "4        156065          1\n",
       "...         ...        ...\n",
       "66287    222348          2\n",
       "66288    222349          2\n",
       "66289    222350          2\n",
       "66290    222351          2\n",
       "66291    222352          2\n",
       "\n",
       "[66292 rows x 2 columns]"
      ]
     },
     "execution_count": 44,
     "metadata": {},
     "output_type": "execute_result"
    }
   ],
   "source": [
    "final_df=pd.DataFrame(test['PhraseId'],columns=['PhraseId'])\n",
    "final_df['Sentiment']=bayesPred\n",
    "final_df"
   ]
  },
  {
   "cell_type": "code",
   "execution_count": 45,
   "id": "0b5fe357",
   "metadata": {
    "execution": {
     "iopub.execute_input": "2022-03-16T23:12:53.431447Z",
     "iopub.status.busy": "2022-03-16T23:12:53.430598Z",
     "iopub.status.idle": "2022-03-16T23:12:53.432978Z",
     "shell.execute_reply": "2022-03-16T23:12:53.432403Z",
     "shell.execute_reply.started": "2022-03-16T22:08:33.830211Z"
    },
    "papermill": {
     "duration": 1.851058,
     "end_time": "2022-03-16T23:12:53.433108",
     "exception": false,
     "start_time": "2022-03-16T23:12:51.582050",
     "status": "completed"
    },
    "tags": []
   },
   "outputs": [],
   "source": [
    "# filename='./submission.csv'\n",
    "# final_df.to_csv(filename,index=False)"
   ]
  }
 ],
 "metadata": {
  "kernelspec": {
   "display_name": "Python 3",
   "language": "python",
   "name": "python3"
  },
  "language_info": {
   "codemirror_mode": {
    "name": "ipython",
    "version": 3
   },
   "file_extension": ".py",
   "mimetype": "text/x-python",
   "name": "python",
   "nbconvert_exporter": "python",
   "pygments_lexer": "ipython3",
   "version": "3.7.12"
  },
  "papermill": {
   "default_parameters": {},
   "duration": 627.987017,
   "end_time": "2022-03-16T23:12:58.914190",
   "environment_variables": {},
   "exception": null,
   "input_path": "__notebook__.ipynb",
   "output_path": "__notebook__.ipynb",
   "parameters": {},
   "start_time": "2022-03-16T23:02:30.927173",
   "version": "2.3.3"
  }
 },
 "nbformat": 4,
 "nbformat_minor": 5
}
